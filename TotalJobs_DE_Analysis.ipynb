{
 "cells": [
  {
   "cell_type": "markdown",
   "id": "25266a6b",
   "metadata": {},
   "source": [
    "# TotalJobs UK Data Engineer Job Analysis"
   ]
  },
  {
   "cell_type": "markdown",
   "id": "c39b0587",
   "metadata": {},
   "source": [
    "# 📥 Step 1: Scrape and Load Data"
   ]
  },
  {
   "cell_type": "code",
   "execution_count": 8,
   "id": "a9bc5cd3",
   "metadata": {},
   "outputs": [],
   "source": [
    "import pandas as pd"
   ]
  },
  {
   "cell_type": "code",
   "execution_count": 2,
   "id": "f37b26c9",
   "metadata": {},
   "outputs": [],
   "source": [
    "import matplotlib.pyplot as plt"
   ]
  },
  {
   "cell_type": "code",
   "execution_count": 6,
   "id": "0b5d6ed5",
   "metadata": {},
   "outputs": [
    {
     "data": {
      "text/plain": [
       "1"
      ]
     },
     "execution_count": 6,
     "metadata": {},
     "output_type": "execute_result"
    }
   ],
   "source": [
    "skill_counts"
   ]
  },
  {
   "cell_type": "code",
   "execution_count": 11,
   "id": "b91e090a",
   "metadata": {},
   "outputs": [],
   "source": [
    "import seaborn as sns"
   ]
  },
  {
   "cell_type": "code",
   "execution_count": 9,
   "id": "ce84f060",
   "metadata": {},
   "outputs": [
    {
     "name": "stdout",
     "output_type": "stream",
     "text": [
      "0    0.25\n",
      "1    0.50\n",
      "2    0.75\n",
      "3    1.00\n",
      "dtype: float64\n"
     ]
    }
   ],
   "source": [
    "data = [0.25, 0.5, 0.75, 1.0]\n",
    "series = pd.Series(data)\n",
    "print(series)"
   ]
  },
  {
   "cell_type": "code",
   "execution_count": 12,
   "id": "017781b8",
   "metadata": {},
   "outputs": [
    {
     "data": {
      "image/png": "[encoded data removed]",
      "text/plain": [
       "<Figure size 864x432 with 1 Axes>"
      ]
     },
     "metadata": {
      "needs_background": "light"
     },
     "output_type": "display_data"
    }
   ],
   "source": [
    "plt.figure(figsize=(12,6))\n",
    "sns.barplot(x=series.values, y=series.index, palette='viridis')\n",
    "plt.title(\"Топ-20 востребованных навыков\")\n",
    "plt.xlabel(\"Частота упоминаний\")\n",
    "plt.ylabel(\"Навыки\")\n",
    "plt.tight_layout()\n",
    "plt.show()"
   ]
  },
  {
   "cell_type": "markdown",
   "id": "88d7ebac",
   "metadata": {},
   "source": [
    "# Scrape Data"
   ]
  },
  {
   "cell_type": "code",
   "execution_count": null,
   "id": "48e4642e",
   "metadata": {},
   "outputs": [],
   "source": [
    "browser = webdriver.Chrome()\n",
    "browser.get(\"https://www.totaljobs.com/\")\n",
    "time.sleep(5)\n",
    "preferences = browser.find_element(By.ID, \"ccmgt_explicit_preferences\")\n",
    "preferences.click()\n",
    "reject = browser.find_element(By.ID, \"ccmgt_preferences_reject\")\n",
    "reject.click()\n",
    "input_tab = browser.find_element(By.CSS_SELECTOR, \"input[data-at='searchbar-keyword-input']\")\n",
    "search_job_title = \"Data Engineer\"\n",
    "input_tab.send_keys(search_job_title)\n",
    "button_search = browser.find_element(By.XPATH, \"//button[@aria-label='Search']\")\n",
    "button_search.click()\n",
    "time.sleep(15)\n",
    "job_data = []\n",
    "next_button = True\n",
    "while next_button:\n",
    "    soup = BeautifulSoup(browser.page_source, 'lxml')\n",
    "    jobs = soup.find_all('article', class_ = 'res-sfoyn7')\n",
    "    for job in jobs:\n",
    "        job_id = job.get('id')\n",
    "        job_title = job.find('div', class_ = 'res-nehv70').get_text(strip=True)\n",
    "        job_link = 'https://www.totaljobs.com' + job.find('a', class_ = 'res-1foik6i').get('href')\n",
    "        try:\n",
    "            job_details = job.find_all('span', class_='res-btchsq')\n",
    "            company = job_details[0].get_text(strip=True) if len(job_details) > 0 else None\n",
    "            location = job_details[1].get_text(strip=True) if len(job_details) > 1 else None\n",
    "        except AttributeError:\n",
    "            company, location = None, None\n",
    "        job_data.append([job_id, job_title, company, location, salary, job_link, datetime.now().strftime(\"%Y-%m-%d %H:%M:%S\")])\n",
    "    print(f'I have already caught {len(job_data)} jobs')\n",
    "\n",
    "    scroll_div = browser.find_element(By.CSS_SELECTOR, \"div.res-vurnku[data-genesis-element='CARD_GROUP_CONTAINER']\")\n",
    "    for _ in range(14):\n",
    "            ActionChains(browser).move_to_element(scroll_div).scroll_by_amount(1, 350).perform()\n",
    "            sleep(randint(2,4))\n",
    "\n",
    "    try:\n",
    "        next_button = browser.find_element(By.CSS_SELECTOR, \"a.res-1thqtcl[aria-label='Next']\")\n",
    "        next_button.click()\n",
    "        time.sleep(15)\n",
    "    except:\n",
    "        print(\"The next button is disabled and cannot be clicked.\")\n",
    "        next_button = False\n",
    "browser.quit()\n",
    "\n",
    "df_header = ['job_id', 'job_title', 'company', 'location', 'job_link', 'loaded_at']\n",
    "df = pd.DataFrame(job_data, columns = df_header)\n",
    "\n",
    "title_keywords = {\n",
    "    'Data Engineer': ['Data Engineer', 'Big Data Engineer', 'Junior Data Engineer', 'Graduate Data Engineer', 'Data Engineer Apprentice'],\n",
    "    'Senior Data Engineer': ['Senior Data Engineer', 'Senior Big Data Engineer', 'Senior Database Engineer'],\n",
    "    'Lead Data Engineer': ['Lead Data Engineer', 'Data Engineering Manager', 'Data Architect', 'Principal Data Engineer', 'Head of Data Engineering', 'Director of Data Engineering']\n",
    "}\n",
    "def extract_title_type(text, title_kw_dict):\n",
    "    for label in ['Lead Data Engineer', 'Senior Data Engineer', 'Data Engineer']:  # prioritizing the order\n",
    "        terms = title_kw_dict.get(label, [])\n",
    "        for term in terms:\n",
    "            if re.search(rf'\\b{re.escape(term)}\\b', text, re.IGNORECASE):\n",
    "                return label\n",
    "    return 'Not matched'\n",
    "\n",
    "df['title'] = df['job_title'].apply(lambda x: extract_title_type(str(x), title_keywords))\n",
    "indexdrop = df[df['title'] == \"Not matched\"].index\n",
    "df.drop(indexdrop, inplace = True)\n",
    "df.to_csv(r'C:\\Users\\Kirill\\Desktop\\de_totaljobs_df1st.csv')\n",
    "\n",
    "df_unique = df[['job_id', 'job_link']].reset_index(drop=True)\n",
    "add_data = []\n",
    "for job_id, url in tqdm(zip(df['job_id'], df['job_link']), total = len(df), desc=\"Scraping\"):\n",
    "    application_form, work_type, published_at, job_content, latitude, longitude = (None,) * 6\n",
    "    sleep(randint(5,10))\n",
    "    try:\n",
    "        browser.get(url)\n",
    "        WebDriverWait(browser, 10).until(EC.presence_of_element_located((By.TAG_NAME, \"body\")))\n",
    "        soup = BeautifulSoup(browser.page_source, 'lxml')\n",
    "\n",
    "        try:\n",
    "            published_time = soup.select_one('meta[name=\"article:published_time\"]')\n",
    "            published_at = published_time.get('content') if published_time else None\n",
    "        except AttributeError:\n",
    "            published_at = None\n",
    "\n",
    "        try:\n",
    "            job_description = soup.find('div', class_='at-section-text-jobDescription-content')\n",
    "            job_content = job_description.get_text(separator='\\n', strip=True) if job_description else None\n",
    "        except AttributeError:\n",
    "            job_content = None\n",
    "\n",
    "        try:\n",
    "            script_geo = soup.find('script', type = 'application/ld+json')\n",
    "            script_tag = json.loads(script_geo.string) if script_geo else None\n",
    "            geo_data = script_tag.get('jobLocation', {}).get('geo', {}) if script_tag else None\n",
    "            latitude = geo_data.get('latitude') if geo_data else None\n",
    "            longitude = geo_data.get('longitude') if geo_data else None\n",
    "        except AttributeError:\n",
    "            latitude, longitude = None   \n",
    "\n",
    "        add_data.append([job_id, published_at, job_content, latitude, longitude])\n",
    "df2_header = ['job_id', 'application_form', 'work_type', 'published_at', 'job_content', 'latitude', 'longitude']\n",
    "df2 = pd.DataFrame(add_data, columns = df2_header)\n",
    "\n",
    "df_merge = df.merge(df2, left_on='job_id', right_on='job_id', how='right')\n",
    "gdf = gpd.read_file('C:/Users/Kirill/Downloads/International_Territorial_Level_1_January_2021_UK_BUC_2022_-200740627039555061.geojson')\n",
    "gdf_merge = gpd.GeoDataFrame(df_merge, geometry=gpd.points_from_xy(df_merge.longitude, df_merge.latitude), crs=\"EPSG:4326\")\n",
    "sdf = gpd.sjoin(gdf_merge, gdf[['ITL121NM', 'geometry']], how='left', predicate='within')\n",
    "sdf.rename(columns={'ITL121NM': 'region'}, inplace=True)"
   ]
  },
  {
   "cell_type": "code",
   "execution_count": null,
   "id": "2a8f68b5",
   "metadata": {},
   "outputs": [],
   "source": [
    "df = pd.read_csv(\"../data/de_totaljobs_test2.csv\")"
   ]
  },
  {
   "cell_type": "code",
   "execution_count": null,
   "id": "142e619a",
   "metadata": {},
   "outputs": [],
   "source": [
    "impor"
   ]
  },
  {
   "cell_type": "markdown",
   "id": "02332ec0",
   "metadata": {},
   "source": [
    "Inspect structure"
   ]
  }
 ],
 "metadata": {
  "kernelspec": {
   "display_name": "Python 3 (ipykernel)",
   "language": "python",
   "name": "python3"
  },
  "language_info": {
   "codemirror_mode": {
    "name": "ipython",
    "version": 3
   },
   "file_extension": ".py",
   "mimetype": "text/x-python",
   "name": "python",
   "nbconvert_exporter": "python",
   "pygments_lexer": "ipython3",
   "version": "3.9.7"
  }
 },
 "nbformat": 4,
 "nbformat_minor": 5
}
